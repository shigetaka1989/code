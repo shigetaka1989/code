{
 "cells": [
  {
   "cell_type": "markdown",
   "metadata": {},
   "source": [
    "## 最大の横と縦を記録\n",
    "\n",
    "### 1.image_listに前処理するフォルダを指定する\n",
    "### 2.imgに前処理するフォルダを指定する"
   ]
  },
  {
   "cell_type": "code",
   "execution_count": 22,
   "metadata": {},
   "outputs": [
    {
     "name": "stdout",
     "output_type": "stream",
     "text": [
      "0056_amsterdam-morey.gif\n",
      "0158_beatty-ned.gif\n",
      "0167_begley-jr-ed.gif\n",
      "0497_cotton-joseph.gif\n",
      "0537_cyrus-billy-ray.gif\n",
      "0583_davis-jonathan.gif\n",
      "0755_fairbanks-douglas-jr.gif\n",
      "0800_fleetwood-mick.gif\n",
      "1593_mckellar-danica2.gif\n",
      "2349_tillis-pam.gif\n",
      "2377_true-rachel.gif\n",
      "\n",
      "max_W:2096\n",
      "max_H:1347\n"
     ]
    }
   ],
   "source": [
    "from PIL import Image\n",
    "import os\n",
    "\n",
    "image_list = os.listdir(r'C:\\Users\\USER\\Desktop\\data\\images')#１、前処理するフォルダのディレクトリを指定\n",
    "width      = []\n",
    "height     = []\n",
    "\n",
    "#全ての画像のＷとＨを格納\n",
    "for i in image_list:\n",
    "    try:\n",
    "        img = Image.open(r'C:\\Users\\USER\\Desktop\\data\\images\\{}'.format(i)) #２、前処理するフォルダのディレクトリを指定\n",
    "        width.append(img.size[0])\n",
    "        height.append(img.size[1])\n",
    "      \n",
    "    except:\n",
    "        print(i) \n",
    "\n",
    "print()\n",
    "print('max_W:' + str(max(width)))\n",
    "print('max_H:' + str(max(height)))       \n",
    "        "
   ]
  },
  {
   "cell_type": "markdown",
   "metadata": {},
   "source": [
    "## 前処理\n",
    "\n",
    "### 1.in_img_pathで前処理するフォルダのディレクトリを指定\n",
    "### 2.out_img_pathで前処理後の保存先のフォルダを指定\n"
   ]
  },
  {
   "cell_type": "code",
   "execution_count": 25,
   "metadata": {},
   "outputs": [
    {
     "name": "stdout",
     "output_type": "stream",
     "text": [
      "Complete!\n"
     ]
    }
   ],
   "source": [
    "\n",
    "def resizeSquare(in_img_path, out_img_path, out_img_width, out_img_height, overwrite):\n",
    "\n",
    "    if overwrite == 0 and os.path.exists(out_img_path):\n",
    "        return\n",
    "\n",
    "    out_img_size = out_img_width, out_img_height\n",
    "    in_img = Image.open(in_img_path)\n",
    "    in_img.thumbnail(out_img_size, Image.ANTIALIAS)\n",
    "    blank_color = R, G, B = (255, 255, 255)\n",
    "    out_img = Image.new(\"RGB\", out_img_size, blank_color)\n",
    "    in_img_width, in_img_height = in_img.size\n",
    "    center = (out_img_width - in_img_width) // 2, (out_img_height - in_img_height) // 2\n",
    "    out_img.paste(in_img, center)\n",
    "    out_img = out_img.resize((96,96))#リサイズの値を指定\n",
    "    out_img.save(out_img_path)\n",
    "    \n",
    "\n",
    "out_img_width = max(width)\n",
    "out_img_height = max(height)\n",
    "\n",
    "\n",
    "for i in image_list:\n",
    "    try:\n",
    "        in_img_path = r'C:\\Users\\USER\\Desktop\\data\\images\\{}'.format(i)                 #１、前処理するフォルダのディレクトリ\n",
    "        out_img_path = r'C:\\Users\\USER\\Desktop\\data\\edit_data\\{}.png'.format(i[:-4])    #２、前処理後の保存先ディレクトリ\n",
    "        overwrite = 1\n",
    "        resizeSquare(in_img_path, out_img_path, out_img_width, out_img_height, overwrite)\n",
    "        \n",
    "    except:\n",
    "        pass\n",
    "    \n",
    "print('Complete!')"
   ]
  },
  {
   "cell_type": "code",
   "execution_count": null,
   "metadata": {
    "collapsed": true
   },
   "outputs": [],
   "source": []
  }
 ],
 "metadata": {
  "kernelspec": {
   "display_name": "Python 3",
   "language": "python",
   "name": "python3"
  },
  "language_info": {
   "codemirror_mode": {
    "name": "ipython",
    "version": 3
   },
   "file_extension": ".py",
   "mimetype": "text/x-python",
   "name": "python",
   "nbconvert_exporter": "python",
   "pygments_lexer": "ipython3",
   "version": "3.5.3"
  }
 },
 "nbformat": 4,
 "nbformat_minor": 2
}
